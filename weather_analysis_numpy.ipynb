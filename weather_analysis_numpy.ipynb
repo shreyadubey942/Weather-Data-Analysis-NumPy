{
 "cells": [
  {
   "cell_type": "code",
   "execution_count": null,
   "id": "c67c76e9",
   "metadata": {},
   "outputs": [
    {
     "name": "stdout",
     "output_type": "stream",
     "text": [
      "Days: [1 2 3 4 5]\n",
      "Temperature (°C): [31 44 39 35 32]\n",
      "Humidity (%): [84 81 86 32 66]\n",
      "Rainfall (mm): [ 2 13 16  3 17]\n"
     ]
    }
   ],
   "source": [
    "import numpy as np\n",
    "\n",
    "# Set seed for reproducibility\n",
    "np.random.seed(42)\n",
    "\n",
    "# Simulating 30 days of weather data \n",
    "days = np.arange(1, 31)\n",
    "temperature = np.random.randint(25, 46, size=30)\n",
    "humidity = np.random.randint(30, 91, size=30)\n",
    "rainfall = np.random.randint(0, 21, size=30)\n",
    "\n",
    "# Displaying first 5 values\n",
    "print(\"Days:\", days[:5])\n",
    "print(\"Temperature (°C):\", temperature[:5])\n",
    "print(\"Humidity (%):\", humidity[:5])\n",
    "print(\"Rainfall (mm):\", rainfall[:5])\n",
    "                   "
   ]
  },
  {
   "cell_type": "code",
   "execution_count": 4,
   "id": "0a7729a8",
   "metadata": {},
   "outputs": [
    {
     "name": "stdout",
     "output_type": "stream",
     "text": [
      "📊 BASIC WEATHER ANALYSIS 📊\n",
      "\n",
      "🌡️ Average Temperature: 35.96666666666667\n",
      "🔥 Max Temperature: 45\n",
      "❄️ Min Temperature: 25\n",
      "📈 Std Dev of Temperature: 6.177827737607738\n",
      "\n",
      "🌧️ Total Rainfall: 307\n",
      "☔ Rainy Days (Rain > 0): 30\n",
      "💧 Comfortable Humidity Days: 7\n"
     ]
    }
   ],
   "source": [
    "print(\"📊 BASIC WEATHER ANALYSIS 📊\\n\")\n",
    "\n",
    "print(\"🌡️ Average Temperature:\", np.mean(temperature))\n",
    "print(\"🔥 Max Temperature:\", np.max(temperature))\n",
    "print(\"❄️ Min Temperature:\", np.min(temperature))\n",
    "print(\"📈 Std Dev of Temperature:\", np.std(temperature))\n",
    "\n",
    "print(\"\\n🌧️ Total Rainfall:\", np.sum(rainfall))\n",
    "print(\"☔ Rainy Days (Rain > 0):\", np.count_nonzero(rainfall > 0))\n",
    "\n",
    "comfortable_humidity = (humidity >= 40) & (humidity <= 60)\n",
    "print(\"💧 Comfortable Humidity Days:\", np.count_nonzero(comfortable_humidity))\n"
   ]
  },
  {
   "cell_type": "code",
   "execution_count": null,
   "id": "ec889c6f",
   "metadata": {},
   "outputs": [],
   "source": []
  }
 ],
 "metadata": {
  "kernelspec": {
   "display_name": "base",
   "language": "python",
   "name": "python3"
  },
  "language_info": {
   "codemirror_mode": {
    "name": "ipython",
    "version": 3
   },
   "file_extension": ".py",
   "mimetype": "text/x-python",
   "name": "python",
   "nbconvert_exporter": "python",
   "pygments_lexer": "ipython3",
   "version": "3.12.7"
  }
 },
 "nbformat": 4,
 "nbformat_minor": 5
}
